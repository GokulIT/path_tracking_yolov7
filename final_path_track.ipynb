{
  "nbformat": 4,
  "nbformat_minor": 0,
  "metadata": {
    "colab": {
      "provenance": []
    },
    "kernelspec": {
      "name": "python3",
      "display_name": "Python 3"
    },
    "language_info": {
      "name": "python"
    },
    "accelerator": "GPU",
    "gpuClass": "standard"
  },
  "cells": [
    {
      "cell_type": "code",
      "execution_count": 1,
      "metadata": {
        "colab": {
          "base_uri": "https://localhost:8080/"
        },
        "id": "t9ttcc7Z5CRZ",
        "outputId": "df1240c3-efcf-4d1b-cea1-878c17362ed2"
      },
      "outputs": [
        {
          "output_type": "stream",
          "name": "stdout",
          "text": [
            "/content/drive\n"
          ]
        }
      ],
      "source": [
        "%cd drive"
      ]
    },
    {
      "cell_type": "code",
      "source": [
        "%ls"
      ],
      "metadata": {
        "colab": {
          "base_uri": "https://localhost:8080/"
        },
        "id": "Gzen_x5n5KBS",
        "outputId": "a3bae5cd-d3dd-418d-b57e-f7c614389517"
      },
      "execution_count": 2,
      "outputs": [
        {
          "output_type": "stream",
          "name": "stdout",
          "text": [
            "\u001b[0m\u001b[01;34mMyDrive\u001b[0m/\n"
          ]
        }
      ]
    },
    {
      "cell_type": "code",
      "source": [
        "%cd MyDrive/"
      ],
      "metadata": {
        "colab": {
          "base_uri": "https://localhost:8080/"
        },
        "id": "7RASdi6h5Shr",
        "outputId": "a082a6c2-7850-4910-e00a-d951c147f526"
      },
      "execution_count": 3,
      "outputs": [
        {
          "output_type": "stream",
          "name": "stdout",
          "text": [
            "/content/drive/MyDrive\n"
          ]
        }
      ]
    },
    {
      "cell_type": "code",
      "source": [
        "!git clone https://github.com/RizwanMunawar/yolov7-object-tracking.git"
      ],
      "metadata": {
        "colab": {
          "base_uri": "https://localhost:8080/"
        },
        "id": "Ps0X2H1F5Xqv",
        "outputId": "514ef980-6193-48b2-8a46-fa1fb1a30686"
      },
      "execution_count": 6,
      "outputs": [
        {
          "output_type": "stream",
          "name": "stdout",
          "text": [
            "Cloning into 'yolov7-object-tracking'...\n",
            "remote: Enumerating objects: 200, done.\u001b[K\n",
            "remote: Counting objects: 100% (65/65), done.\u001b[K\n",
            "remote: Compressing objects: 100% (16/16), done.\u001b[K\n",
            "remote: Total 200 (delta 58), reused 49 (delta 49), pack-reused 135\u001b[K\n",
            "Receiving objects: 100% (200/200), 156.08 KiB | 2.64 MiB/s, done.\n",
            "Resolving deltas: 100% (98/98), done.\n"
          ]
        }
      ]
    },
    {
      "cell_type": "code",
      "source": [
        "%cd drive/MyDrive/path_track/yolov7-object-tracking/"
      ],
      "metadata": {
        "colab": {
          "base_uri": "https://localhost:8080/"
        },
        "id": "l9HZXrm35ajc",
        "outputId": "057abcdc-c4d8-4bfa-b911-d4c591a25a69"
      },
      "execution_count": 1,
      "outputs": [
        {
          "output_type": "stream",
          "name": "stdout",
          "text": [
            "/content/drive/MyDrive/path_track/yolov7-object-tracking\n"
          ]
        }
      ]
    },
    {
      "cell_type": "code",
      "source": [
        "%ls"
      ],
      "metadata": {
        "colab": {
          "base_uri": "https://localhost:8080/"
        },
        "id": "XwNkE-T46lBd",
        "outputId": "491a969e-de14-40ec-b04c-8a68dfd8bca8"
      },
      "execution_count": 8,
      "outputs": [
        {
          "output_type": "stream",
          "name": "stdout",
          "text": [
            "\u001b[0m\u001b[01;34myolov7-object-tracking\u001b[0m/\n"
          ]
        }
      ]
    },
    {
      "cell_type": "code",
      "source": [
        "!pip install filterpy==1.1.0"
      ],
      "metadata": {
        "colab": {
          "base_uri": "https://localhost:8080/"
        },
        "id": "ana0Zyw46nv-",
        "outputId": "a4905081-6939-408c-aa7d-6b1239589a4e"
      },
      "execution_count": 8,
      "outputs": [
        {
          "output_type": "stream",
          "name": "stdout",
          "text": [
            "Looking in indexes: https://pypi.org/simple, https://us-python.pkg.dev/colab-wheels/public/simple/\n",
            "Collecting filterpy==1.1.0\n",
            "  Downloading filterpy-1.1.0.tar.gz (63 kB)\n",
            "\u001b[2K     \u001b[90m━━━━━━━━━━━━━━━━━━━━━━━━━━━━━━━━━━━━━━━━\u001b[0m \u001b[32m63.1/63.1 KB\u001b[0m \u001b[31m2.3 MB/s\u001b[0m eta \u001b[36m0:00:00\u001b[0m\n",
            "\u001b[?25h  Preparing metadata (setup.py) ... \u001b[?25l\u001b[?25hdone\n",
            "Requirement already satisfied: numpy in /usr/local/lib/python3.8/dist-packages (from filterpy==1.1.0) (1.21.6)\n",
            "Requirement already satisfied: scipy in /usr/local/lib/python3.8/dist-packages (from filterpy==1.1.0) (1.7.3)\n",
            "Requirement already satisfied: matplotlib in /usr/local/lib/python3.8/dist-packages (from filterpy==1.1.0) (3.2.2)\n",
            "Requirement already satisfied: python-dateutil>=2.1 in /usr/local/lib/python3.8/dist-packages (from matplotlib->filterpy==1.1.0) (2.8.2)\n",
            "Requirement already satisfied: pyparsing!=2.0.4,!=2.1.2,!=2.1.6,>=2.0.1 in /usr/local/lib/python3.8/dist-packages (from matplotlib->filterpy==1.1.0) (3.0.9)\n",
            "Requirement already satisfied: kiwisolver>=1.0.1 in /usr/local/lib/python3.8/dist-packages (from matplotlib->filterpy==1.1.0) (1.4.4)\n",
            "Requirement already satisfied: cycler>=0.10 in /usr/local/lib/python3.8/dist-packages (from matplotlib->filterpy==1.1.0) (0.11.0)\n",
            "Requirement already satisfied: six>=1.5 in /usr/local/lib/python3.8/dist-packages (from python-dateutil>=2.1->matplotlib->filterpy==1.1.0) (1.15.0)\n",
            "Building wheels for collected packages: filterpy\n",
            "  Building wheel for filterpy (setup.py) ... \u001b[?25l\u001b[?25hdone\n",
            "  Created wheel for filterpy: filename=filterpy-1.1.0-py3-none-any.whl size=85437 sha256=d0cd9bc16859d709de5a9098ca3e9708b2e0f199a9ae8831a5fae49bcab475e5\n",
            "  Stored in directory: /root/.cache/pip/wheels/81/0d/14/512088bcce39315169917199b3749aaa9ccc26bcc4e36f544b\n",
            "Successfully built filterpy\n",
            "Installing collected packages: filterpy\n",
            "Successfully installed filterpy-1.1.0\n"
          ]
        }
      ]
    },
    {
      "cell_type": "code",
      "source": [
        "!python detect_and_track.py --weights yolov7.pt --classes 0 --source \"test.mp4\""
      ],
      "metadata": {
        "colab": {
          "base_uri": "https://localhost:8080/"
        },
        "id": "Nk2e4ZSs5iQL",
        "outputId": "3da9d9d3-4a2c-46bc-c039-590b6d88f910"
      },
      "execution_count": 15,
      "outputs": [
        {
          "output_type": "stream",
          "name": "stdout",
          "text": [
            "Namespace(agnostic_nms=False, augment=False, classes=[0], colored_trk=False, conf_thres=0.25, device='', download=True, exist_ok=False, img_size=640, iou_thres=0.45, name='object_tracking', no_trace=False, nosave=False, project='runs/detect', save_bbox_dim=False, save_conf=False, save_txt=False, save_with_object_id=False, source='test.mp4', update=False, view_img=False, weights=['yolov7.pt'])\n",
            "Model weights not found. Attempting to download now...\n",
            "yolov7.pt: 100% 72.1M/72.1M [00:04<00:00, 18.1MiB/s]\n",
            "YOLOR 🚀 yolov7-object-tracking-42-g8ee00d6 torch 1.13.1+cu116 CPU\n",
            "\n",
            "Fusing layers... \n",
            "RepConv.fuse_repvgg_block\n",
            "RepConv.fuse_repvgg_block\n",
            "RepConv.fuse_repvgg_block\n",
            "Model Summary: 306 layers, 36905341 parameters, 6652669 gradients\n",
            " Convert model to Traced-model... \n",
            " traced_script_module saved! \n",
            " model is traced! \n",
            "\n",
            "/usr/local/lib/python3.8/dist-packages/torch/functional.py:504: UserWarning: torch.meshgrid: in an upcoming release, it will be required to pass the indexing argument. (Triggered internally at ../aten/src/ATen/native/TensorShape.cpp:3190.)\n",
            "  return _VF.meshgrid(tensors, **kwargs)  # type: ignore[attr-defined]\n",
            "video 1/1 (1/1283) /content/drive/MyDrive/path_track/yolov7-object-tracking/test.mp4: 13 persons, Done. (1462.2ms) Inference, (3.0ms) NMS\n",
            "video 1/1 (2/1283) /content/drive/MyDrive/path_track/yolov7-object-tracking/test.mp4: 13 persons, Done. (1396.5ms) Inference, (1.2ms) NMS\n",
            "video 1/1 (3/1283) /content/drive/MyDrive/path_track/yolov7-object-tracking/test.mp4: 13 persons, Done. (1345.4ms) Inference, (1.5ms) NMS\n",
            "video 1/1 (4/1283) /content/drive/MyDrive/path_track/yolov7-object-tracking/test.mp4: 13 persons, Done. (1370.9ms) Inference, (1.3ms) NMS\n",
            "video 1/1 (5/1283) /content/drive/MyDrive/path_track/yolov7-object-tracking/test.mp4: 13 persons, Done. (1344.4ms) Inference, (1.5ms) NMS\n",
            "video 1/1 (6/1283) /content/drive/MyDrive/path_track/yolov7-object-tracking/test.mp4: 13 persons, Done. (1386.8ms) Inference, (1.1ms) NMS\n",
            "video 1/1 (7/1283) /content/drive/MyDrive/path_track/yolov7-object-tracking/test.mp4: 13 persons, Done. (1455.0ms) Inference, (2.3ms) NMS\n",
            "video 1/1 (8/1283) /content/drive/MyDrive/path_track/yolov7-object-tracking/test.mp4: 13 persons, Done. (1604.1ms) Inference, (1.3ms) NMS\n",
            "video 1/1 (9/1283) /content/drive/MyDrive/path_track/yolov7-object-tracking/test.mp4: 13 persons, Done. (1563.9ms) Inference, (1.4ms) NMS\n",
            "video 1/1 (10/1283) /content/drive/MyDrive/path_track/yolov7-object-tracking/test.mp4: 13 persons, Done. (1434.2ms) Inference, (1.3ms) NMS\n",
            "video 1/1 (11/1283) /content/drive/MyDrive/path_track/yolov7-object-tracking/test.mp4: 13 persons, Done. (1379.6ms) Inference, (2.8ms) NMS\n",
            "video 1/1 (12/1283) /content/drive/MyDrive/path_track/yolov7-object-tracking/test.mp4: 13 persons, Done. (1369.6ms) Inference, (1.2ms) NMS\n",
            "video 1/1 (13/1283) /content/drive/MyDrive/path_track/yolov7-object-tracking/test.mp4: 13 persons, Done. (1404.9ms) Inference, (1.5ms) NMS\n",
            "video 1/1 (14/1283) /content/drive/MyDrive/path_track/yolov7-object-tracking/test.mp4: 13 persons, Done. (1382.8ms) Inference, (1.3ms) NMS\n",
            "video 1/1 (15/1283) /content/drive/MyDrive/path_track/yolov7-object-tracking/test.mp4: 13 persons, Done. (1398.9ms) Inference, (1.2ms) NMS\n",
            "video 1/1 (16/1283) /content/drive/MyDrive/path_track/yolov7-object-tracking/test.mp4: 13 persons, Done. (1382.5ms) Inference, (1.2ms) NMS\n",
            "video 1/1 (17/1283) /content/drive/MyDrive/path_track/yolov7-object-tracking/test.mp4: 13 persons, Done. (1350.2ms) Inference, (1.1ms) NMS\n",
            "video 1/1 (18/1283) /content/drive/MyDrive/path_track/yolov7-object-tracking/test.mp4: 13 persons, Done. (1353.5ms) Inference, (1.6ms) NMS\n",
            "video 1/1 (19/1283) /content/drive/MyDrive/path_track/yolov7-object-tracking/test.mp4: 13 persons, Done. (1355.9ms) Inference, (1.2ms) NMS\n",
            "video 1/1 (20/1283) /content/drive/MyDrive/path_track/yolov7-object-tracking/test.mp4: 13 persons, Done. (1389.7ms) Inference, (2.1ms) NMS\n",
            "video 1/1 (21/1283) /content/drive/MyDrive/path_track/yolov7-object-tracking/test.mp4: 13 persons, Done. (1366.8ms) Inference, (1.2ms) NMS\n",
            "video 1/1 (22/1283) /content/drive/MyDrive/path_track/yolov7-object-tracking/test.mp4: 13 persons, Done. (1381.1ms) Inference, (1.2ms) NMS\n",
            "video 1/1 (23/1283) /content/drive/MyDrive/path_track/yolov7-object-tracking/test.mp4: 13 persons, Done. (1357.3ms) Inference, (1.6ms) NMS\n",
            "video 1/1 (24/1283) /content/drive/MyDrive/path_track/yolov7-object-tracking/test.mp4: 13 persons, Done. (1364.6ms) Inference, (1.2ms) NMS\n",
            "video 1/1 (25/1283) /content/drive/MyDrive/path_track/yolov7-object-tracking/test.mp4: 13 persons, Done. (1407.7ms) Inference, (1.3ms) NMS\n",
            "video 1/1 (26/1283) /content/drive/MyDrive/path_track/yolov7-object-tracking/test.mp4: 13 persons, Done. (1424.2ms) Inference, (1.8ms) NMS\n",
            "video 1/1 (27/1283) /content/drive/MyDrive/path_track/yolov7-object-tracking/test.mp4: 13 persons, Done. (1363.2ms) Inference, (1.2ms) NMS\n",
            "video 1/1 (28/1283) /content/drive/MyDrive/path_track/yolov7-object-tracking/test.mp4: 13 persons, Done. (1436.7ms) Inference, (1.2ms) NMS\n",
            "video 1/1 (29/1283) /content/drive/MyDrive/path_track/yolov7-object-tracking/test.mp4: 13 persons, Done. (1367.3ms) Inference, (1.2ms) NMS\n",
            "video 1/1 (30/1283) /content/drive/MyDrive/path_track/yolov7-object-tracking/test.mp4: 13 persons, Done. (1368.5ms) Inference, (1.8ms) NMS\n",
            "video 1/1 (31/1283) /content/drive/MyDrive/path_track/yolov7-object-tracking/test.mp4: 13 persons, Done. (1410.3ms) Inference, (1.6ms) NMS\n",
            "video 1/1 (32/1283) /content/drive/MyDrive/path_track/yolov7-object-tracking/test.mp4: 13 persons, Done. (1359.8ms) Inference, (1.3ms) NMS\n",
            "video 1/1 (33/1283) /content/drive/MyDrive/path_track/yolov7-object-tracking/test.mp4: 13 persons, Done. (1384.3ms) Inference, (1.3ms) NMS\n",
            "video 1/1 (34/1283) /content/drive/MyDrive/path_track/yolov7-object-tracking/test.mp4: 13 persons, Done. (1384.7ms) Inference, (1.2ms) NMS\n",
            "video 1/1 (35/1283) /content/drive/MyDrive/path_track/yolov7-object-tracking/test.mp4: 13 persons, Done. (1329.6ms) Inference, (1.2ms) NMS\n",
            "video 1/1 (36/1283) /content/drive/MyDrive/path_track/yolov7-object-tracking/test.mp4: 13 persons, Done. (1994.0ms) Inference, (1.5ms) NMS\n",
            "video 1/1 (37/1283) /content/drive/MyDrive/path_track/yolov7-object-tracking/test.mp4: 13 persons, Done. (2208.5ms) Inference, (1.6ms) NMS\n",
            "video 1/1 (38/1283) /content/drive/MyDrive/path_track/yolov7-object-tracking/test.mp4: 13 persons, Done. (1699.1ms) Inference, (1.2ms) NMS\n",
            "video 1/1 (39/1283) /content/drive/MyDrive/path_track/yolov7-object-tracking/test.mp4: 13 persons, Done. (1379.0ms) Inference, (1.2ms) NMS\n",
            "video 1/1 (40/1283) /content/drive/MyDrive/path_track/yolov7-object-tracking/test.mp4: 13 persons, Done. (1378.6ms) Inference, (1.2ms) NMS\n",
            "video 1/1 (41/1283) /content/drive/MyDrive/path_track/yolov7-object-tracking/test.mp4: 13 persons, Done. (1343.8ms) Inference, (1.3ms) NMS\n",
            "video 1/1 (42/1283) /content/drive/MyDrive/path_track/yolov7-object-tracking/test.mp4: 13 persons, Done. (1356.0ms) Inference, (1.6ms) NMS\n",
            "video 1/1 (43/1283) /content/drive/MyDrive/path_track/yolov7-object-tracking/test.mp4: 13 persons, Done. (1373.3ms) Inference, (1.3ms) NMS\n",
            "video 1/1 (44/1283) /content/drive/MyDrive/path_track/yolov7-object-tracking/test.mp4: 13 persons, Done. (1351.1ms) Inference, (1.4ms) NMS\n",
            "video 1/1 (45/1283) /content/drive/MyDrive/path_track/yolov7-object-tracking/test.mp4: 13 persons, Done. (1452.1ms) Inference, (1.2ms) NMS\n",
            "video 1/1 (46/1283) /content/drive/MyDrive/path_track/yolov7-object-tracking/test.mp4: 13 persons, Done. (1354.4ms) Inference, (1.2ms) NMS\n",
            "video 1/1 (47/1283) /content/drive/MyDrive/path_track/yolov7-object-tracking/test.mp4: 13 persons, Done. (1335.7ms) Inference, (1.7ms) NMS\n",
            "video 1/1 (48/1283) /content/drive/MyDrive/path_track/yolov7-object-tracking/test.mp4: 13 persons, Done. (1347.6ms) Inference, (1.2ms) NMS\n",
            "video 1/1 (49/1283) /content/drive/MyDrive/path_track/yolov7-object-tracking/test.mp4: 13 persons, Done. (1341.4ms) Inference, (1.8ms) NMS\n",
            "video 1/1 (50/1283) /content/drive/MyDrive/path_track/yolov7-object-tracking/test.mp4: 13 persons, Done. (1385.9ms) Inference, (1.3ms) NMS\n",
            "video 1/1 (51/1283) /content/drive/MyDrive/path_track/yolov7-object-tracking/test.mp4: 13 persons, Done. (1376.7ms) Inference, (1.3ms) NMS\n",
            "video 1/1 (52/1283) /content/drive/MyDrive/path_track/yolov7-object-tracking/test.mp4: 13 persons, Done. (1403.1ms) Inference, (1.6ms) NMS\n",
            "video 1/1 (53/1283) /content/drive/MyDrive/path_track/yolov7-object-tracking/test.mp4: 13 persons, Done. (1423.0ms) Inference, (1.5ms) NMS\n",
            "video 1/1 (54/1283) /content/drive/MyDrive/path_track/yolov7-object-tracking/test.mp4: 13 persons, Done. (1398.9ms) Inference, (1.5ms) NMS\n",
            "video 1/1 (55/1283) /content/drive/MyDrive/path_track/yolov7-object-tracking/test.mp4: 13 persons, Done. (1394.1ms) Inference, (1.2ms) NMS\n",
            "video 1/1 (56/1283) /content/drive/MyDrive/path_track/yolov7-object-tracking/test.mp4: 13 persons, Done. (1412.5ms) Inference, (1.4ms) NMS\n",
            "video 1/1 (57/1283) /content/drive/MyDrive/path_track/yolov7-object-tracking/test.mp4: 13 persons, Done. (1444.4ms) Inference, (1.2ms) NMS\n",
            "video 1/1 (58/1283) /content/drive/MyDrive/path_track/yolov7-object-tracking/test.mp4: 14 persons, Done. (1334.3ms) Inference, (1.5ms) NMS\n",
            "video 1/1 (59/1283) /content/drive/MyDrive/path_track/yolov7-object-tracking/test.mp4: 14 persons, Done. (1371.2ms) Inference, (1.3ms) NMS\n",
            "video 1/1 (60/1283) /content/drive/MyDrive/path_track/yolov7-object-tracking/test.mp4: 14 persons, Done. (1344.2ms) Inference, (1.2ms) NMS\n",
            "video 1/1 (61/1283) /content/drive/MyDrive/path_track/yolov7-object-tracking/test.mp4: 14 persons, Done. (1311.5ms) Inference, (1.3ms) NMS\n",
            "video 1/1 (62/1283) /content/drive/MyDrive/path_track/yolov7-object-tracking/test.mp4: 14 persons, Done. (1368.7ms) Inference, (1.5ms) NMS\n",
            "video 1/1 (63/1283) /content/drive/MyDrive/path_track/yolov7-object-tracking/test.mp4: 14 persons, Done. (1360.0ms) Inference, (1.3ms) NMS\n",
            "video 1/1 (64/1283) /content/drive/MyDrive/path_track/yolov7-object-tracking/test.mp4: 14 persons, Done. (1354.3ms) Inference, (1.9ms) NMS\n",
            "video 1/1 (65/1283) /content/drive/MyDrive/path_track/yolov7-object-tracking/test.mp4: 14 persons, Done. (1385.6ms) Inference, (1.2ms) NMS\n",
            "video 1/1 (66/1283) /content/drive/MyDrive/path_track/yolov7-object-tracking/test.mp4: 14 persons, Done. (1338.8ms) Inference, (1.2ms) NMS\n",
            "video 1/1 (67/1283) /content/drive/MyDrive/path_track/yolov7-object-tracking/test.mp4: 14 persons, Done. (1409.9ms) Inference, (1.7ms) NMS\n",
            "video 1/1 (68/1283) /content/drive/MyDrive/path_track/yolov7-object-tracking/test.mp4: 13 persons, Done. (1357.6ms) Inference, (1.2ms) NMS\n",
            "video 1/1 (69/1283) /content/drive/MyDrive/path_track/yolov7-object-tracking/test.mp4: 13 persons, Done. (1376.6ms) Inference, (1.2ms) NMS\n",
            "video 1/1 (70/1283) /content/drive/MyDrive/path_track/yolov7-object-tracking/test.mp4: 13 persons, Done. (1367.2ms) Inference, (1.2ms) NMS\n",
            "video 1/1 (71/1283) /content/drive/MyDrive/path_track/yolov7-object-tracking/test.mp4: 15 persons, Done. (1353.5ms) Inference, (1.4ms) NMS\n",
            "video 1/1 (72/1283) /content/drive/MyDrive/path_track/yolov7-object-tracking/test.mp4: 15 persons, Done. (1376.4ms) Inference, (1.2ms) NMS\n",
            "video 1/1 (73/1283) /content/drive/MyDrive/path_track/yolov7-object-tracking/test.mp4: 15 persons, Done. (1402.3ms) Inference, (1.6ms) NMS\n",
            "video 1/1 (74/1283) /content/drive/MyDrive/path_track/yolov7-object-tracking/test.mp4: 13 persons, Done. (1374.8ms) Inference, (1.5ms) NMS\n",
            "video 1/1 (75/1283) /content/drive/MyDrive/path_track/yolov7-object-tracking/test.mp4: 13 persons, Done. (1414.4ms) Inference, (1.2ms) NMS\n",
            "video 1/1 (76/1283) /content/drive/MyDrive/path_track/yolov7-object-tracking/test.mp4: 12 persons, Done. (1340.2ms) Inference, (1.1ms) NMS\n",
            "video 1/1 (77/1283) /content/drive/MyDrive/path_track/yolov7-object-tracking/test.mp4: 12 persons, Done. (1373.4ms) Inference, (1.4ms) NMS\n",
            "video 1/1 (78/1283) /content/drive/MyDrive/path_track/yolov7-object-tracking/test.mp4: 12 persons, Done. (1372.2ms) Inference, (1.2ms) NMS\n",
            "video 1/1 (79/1283) /content/drive/MyDrive/path_track/yolov7-object-tracking/test.mp4: 11 persons, Done. (1371.8ms) Inference, (1.3ms) NMS\n",
            "video 1/1 (80/1283) /content/drive/MyDrive/path_track/yolov7-object-tracking/test.mp4: 11 persons, Done. (1373.1ms) Inference, (1.2ms) NMS\n",
            "video 1/1 (81/1283) /content/drive/MyDrive/path_track/yolov7-object-tracking/test.mp4: 12 persons, Done. (1352.7ms) Inference, (1.3ms) NMS\n",
            "video 1/1 (82/1283) /content/drive/MyDrive/path_track/yolov7-object-tracking/test.mp4: 12 persons, Done. (1373.5ms) Inference, (1.2ms) NMS\n",
            "video 1/1 (83/1283) /content/drive/MyDrive/path_track/yolov7-object-tracking/test.mp4: 12 persons, Done. (1354.3ms) Inference, (1.6ms) NMS\n",
            "video 1/1 (84/1283) /content/drive/MyDrive/path_track/yolov7-object-tracking/test.mp4: 13 persons, Done. (1368.3ms) Inference, (1.2ms) NMS\n",
            "video 1/1 (85/1283) /content/drive/MyDrive/path_track/yolov7-object-tracking/test.mp4: 13 persons, Done. (1333.7ms) Inference, (1.1ms) NMS\n",
            "video 1/1 (86/1283) /content/drive/MyDrive/path_track/yolov7-object-tracking/test.mp4: 13 persons, Done. (1293.9ms) Inference, (1.1ms) NMS\n",
            "video 1/1 (87/1283) /content/drive/MyDrive/path_track/yolov7-object-tracking/test.mp4: 14 persons, Done. (1384.8ms) Inference, (1.5ms) NMS\n",
            "video 1/1 (88/1283) /content/drive/MyDrive/path_track/yolov7-object-tracking/test.mp4: 14 persons, Done. (1367.8ms) Inference, (1.2ms) NMS\n",
            "video 1/1 (89/1283) /content/drive/MyDrive/path_track/yolov7-object-tracking/test.mp4: 13 persons, Done. (1397.9ms) Inference, (1.7ms) NMS\n",
            "video 1/1 (90/1283) /content/drive/MyDrive/path_track/yolov7-object-tracking/test.mp4: 12 persons, Done. (1371.5ms) Inference, (1.2ms) NMS\n",
            "video 1/1 (91/1283) /content/drive/MyDrive/path_track/yolov7-object-tracking/test.mp4: 12 persons, Done. (1396.8ms) Inference, (1.4ms) NMS\n",
            "video 1/1 (92/1283) /content/drive/MyDrive/path_track/yolov7-object-tracking/test.mp4: 13 persons, Done. (1387.0ms) Inference, (1.2ms) NMS\n",
            "video 1/1 (93/1283) /content/drive/MyDrive/path_track/yolov7-object-tracking/test.mp4: 11 persons, Done. (1370.5ms) Inference, (1.2ms) NMS\n",
            "video 1/1 (94/1283) /content/drive/MyDrive/path_track/yolov7-object-tracking/test.mp4: 12 persons, Done. (1399.7ms) Inference, (1.9ms) NMS\n",
            "video 1/1 (95/1283) /content/drive/MyDrive/path_track/yolov7-object-tracking/test.mp4: 11 persons, Done. (1316.0ms) Inference, (1.2ms) NMS\n",
            "video 1/1 (96/1283) /content/drive/MyDrive/path_track/yolov7-object-tracking/test.mp4: 11 persons, Done. (1349.7ms) Inference, (1.1ms) NMS\n",
            "video 1/1 (97/1283) /content/drive/MyDrive/path_track/yolov7-object-tracking/test.mp4: 13 persons, Done. (1323.6ms) Inference, (1.2ms) NMS\n",
            "video 1/1 (98/1283) /content/drive/MyDrive/path_track/yolov7-object-tracking/test.mp4: 12 persons, Done. (1381.3ms) Inference, (1.1ms) NMS\n",
            "video 1/1 (99/1283) /content/drive/MyDrive/path_track/yolov7-object-tracking/test.mp4: 12 persons, Done. (1347.1ms) Inference, (1.2ms) NMS\n",
            "video 1/1 (100/1283) /content/drive/MyDrive/path_track/yolov7-object-tracking/test.mp4: 11 persons, Done. (1413.4ms) Inference, (1.7ms) NMS\n",
            "video 1/1 (101/1283) /content/drive/MyDrive/path_track/yolov7-object-tracking/test.mp4: 11 persons, Done. (1338.1ms) Inference, (1.8ms) NMS\n",
            "video 1/1 (102/1283) /content/drive/MyDrive/path_track/yolov7-object-tracking/test.mp4: 11 persons, Done. (1365.9ms) Inference, (1.3ms) NMS\n",
            "video 1/1 (103/1283) /content/drive/MyDrive/path_track/yolov7-object-tracking/test.mp4: 11 persons, Done. (1391.3ms) Inference, (1.6ms) NMS\n",
            "video 1/1 (104/1283) /content/drive/MyDrive/path_track/yolov7-object-tracking/test.mp4: 11 persons, Done. (1374.5ms) Inference, (1.2ms) NMS\n",
            "video 1/1 (105/1283) /content/drive/MyDrive/path_track/yolov7-object-tracking/test.mp4: 12 persons, Done. (1316.7ms) Inference, (1.1ms) NMS\n",
            "video 1/1 (106/1283) /content/drive/MyDrive/path_track/yolov7-object-tracking/test.mp4: 12 persons, Done. (1372.5ms) Inference, (1.3ms) NMS\n",
            "video 1/1 (107/1283) /content/drive/MyDrive/path_track/yolov7-object-tracking/test.mp4: 12 persons, Done. (1349.0ms) Inference, (1.2ms) NMS\n",
            "video 1/1 (108/1283) /content/drive/MyDrive/path_track/yolov7-object-tracking/test.mp4: 11 persons, Done. (1365.4ms) Inference, (1.2ms) NMS\n",
            "video 1/1 (109/1283) /content/drive/MyDrive/path_track/yolov7-object-tracking/test.mp4: 14 persons, Done. (1365.5ms) Inference, (1.6ms) NMS\n",
            "video 1/1 (110/1283) /content/drive/MyDrive/path_track/yolov7-object-tracking/test.mp4: 13 persons, Done. (1404.3ms) Inference, (1.2ms) NMS\n",
            "video 1/1 (111/1283) /content/drive/MyDrive/path_track/yolov7-object-tracking/test.mp4: 13 persons, Done. (1397.4ms) Inference, (1.2ms) NMS\n",
            "video 1/1 (112/1283) /content/drive/MyDrive/path_track/yolov7-object-tracking/test.mp4: 12 persons, Done. (1373.1ms) Inference, (1.2ms) NMS\n",
            "video 1/1 (113/1283) /content/drive/MyDrive/path_track/yolov7-object-tracking/test.mp4: 15 persons, Done. (1392.5ms) Inference, (1.3ms) NMS\n",
            "video 1/1 (114/1283) /content/drive/MyDrive/path_track/yolov7-object-tracking/test.mp4: 15 persons, Done. (1438.6ms) Inference, (1.3ms) NMS\n",
            "video 1/1 (115/1283) /content/drive/MyDrive/path_track/yolov7-object-tracking/test.mp4: 16 persons, Done. (1371.7ms) Inference, (1.3ms) NMS\n",
            "video 1/1 (116/1283) /content/drive/MyDrive/path_track/yolov7-object-tracking/test.mp4: 15 persons, Done. (1376.4ms) Inference, (1.7ms) NMS\n",
            "video 1/1 (117/1283) /content/drive/MyDrive/path_track/yolov7-object-tracking/test.mp4: 15 persons, Done. (1389.3ms) Inference, (1.3ms) NMS\n",
            "video 1/1 (118/1283) /content/drive/MyDrive/path_track/yolov7-object-tracking/test.mp4: 15 persons, Done. (1391.7ms) Inference, (1.5ms) NMS\n",
            "video 1/1 (119/1283) /content/drive/MyDrive/path_track/yolov7-object-tracking/test.mp4: 16 persons, Done. (1406.3ms) Inference, (2.0ms) NMS\n",
            "video 1/1 (120/1283) /content/drive/MyDrive/path_track/yolov7-object-tracking/test.mp4: 16 persons, Done. (1360.6ms) Inference, (1.3ms) NMS\n",
            "video 1/1 (121/1283) /content/drive/MyDrive/path_track/yolov7-object-tracking/test.mp4: 15 persons, Done. (1379.8ms) Inference, (1.7ms) NMS\n",
            "video 1/1 (122/1283) /content/drive/MyDrive/path_track/yolov7-object-tracking/test.mp4: 16 persons, Done. (1339.7ms) Inference, (1.2ms) NMS\n",
            "video 1/1 (123/1283) /content/drive/MyDrive/path_track/yolov7-object-tracking/test.mp4: 15 persons, Done. (1354.0ms) Inference, (1.3ms) NMS\n",
            "video 1/1 (124/1283) /content/drive/MyDrive/path_track/yolov7-object-tracking/test.mp4: 15 persons, Done. (1338.7ms) Inference, (1.5ms) NMS\n",
            "video 1/1 (125/1283) /content/drive/MyDrive/path_track/yolov7-object-tracking/test.mp4: 16 persons, Done. (1362.2ms) Inference, (1.2ms) NMS\n",
            "video 1/1 (126/1283) /content/drive/MyDrive/path_track/yolov7-object-tracking/test.mp4: 15 persons, Done. (1372.3ms) Inference, (1.1ms) NMS\n",
            "video 1/1 (127/1283) /content/drive/MyDrive/path_track/yolov7-object-tracking/test.mp4: 15 persons, Done. (1369.1ms) Inference, (1.3ms) NMS\n",
            "video 1/1 (128/1283) /content/drive/MyDrive/path_track/yolov7-object-tracking/test.mp4: 15 persons, Done. (1354.8ms) Inference, (1.2ms) NMS\n",
            "video 1/1 (129/1283) /content/drive/MyDrive/path_track/yolov7-object-tracking/test.mp4: 15 persons, Done. (1388.8ms) Inference, (1.4ms) NMS\n",
            "video 1/1 (130/1283) /content/drive/MyDrive/path_track/yolov7-object-tracking/test.mp4: 15 persons, Done. (1390.4ms) Inference, (2.0ms) NMS\n",
            "video 1/1 (131/1283) /content/drive/MyDrive/path_track/yolov7-object-tracking/test.mp4: 15 persons, Done. (1406.2ms) Inference, (1.3ms) NMS\n",
            "video 1/1 (132/1283) /content/drive/MyDrive/path_track/yolov7-object-tracking/test.mp4: 16 persons, Done. (1397.6ms) Inference, (1.2ms) NMS\n",
            "video 1/1 (133/1283) /content/drive/MyDrive/path_track/yolov7-object-tracking/test.mp4: 15 persons, Done. (1402.4ms) Inference, (1.3ms) NMS\n",
            "video 1/1 (134/1283) /content/drive/MyDrive/path_track/yolov7-object-tracking/test.mp4: 13 persons, Done. (1402.8ms) Inference, (1.3ms) NMS\n",
            "video 1/1 (135/1283) /content/drive/MyDrive/path_track/yolov7-object-tracking/test.mp4: 13 persons, Done. (1379.9ms) Inference, (1.2ms) NMS\n",
            "video 1/1 (136/1283) /content/drive/MyDrive/path_track/yolov7-object-tracking/test.mp4: 15 persons, Done. (1414.6ms) Inference, (1.4ms) NMS\n",
            "video 1/1 (137/1283) /content/drive/MyDrive/path_track/yolov7-object-tracking/test.mp4: 14 persons, Done. (1358.9ms) Inference, (1.3ms) NMS\n",
            "video 1/1 (138/1283) /content/drive/MyDrive/path_track/yolov7-object-tracking/test.mp4: 13 persons, Done. (1395.9ms) Inference, (1.2ms) NMS\n",
            "video 1/1 (139/1283) /content/drive/MyDrive/path_track/yolov7-object-tracking/test.mp4: 15 persons, Done. (1363.4ms) Inference, (1.3ms) NMS\n",
            "video 1/1 (140/1283) /content/drive/MyDrive/path_track/yolov7-object-tracking/test.mp4: 15 persons, Done. (1395.4ms) Inference, (2.2ms) NMS\n",
            "video 1/1 (141/1283) /content/drive/MyDrive/path_track/yolov7-object-tracking/test.mp4: 15 persons, Done. (1395.4ms) Inference, (1.2ms) NMS\n",
            "video 1/1 (142/1283) /content/drive/MyDrive/path_track/yolov7-object-tracking/test.mp4: 15 persons, Done. (1359.2ms) Inference, (1.3ms) NMS\n",
            "video 1/1 (143/1283) /content/drive/MyDrive/path_track/yolov7-object-tracking/test.mp4: 15 persons, Done. (1396.5ms) Inference, (1.3ms) NMS\n",
            "video 1/1 (144/1283) /content/drive/MyDrive/path_track/yolov7-object-tracking/test.mp4: 14 persons, Done. (1398.4ms) Inference, (1.3ms) NMS\n",
            "video 1/1 (145/1283) /content/drive/MyDrive/path_track/yolov7-object-tracking/test.mp4: 15 persons, Done. (1367.7ms) Inference, (1.8ms) NMS\n",
            "video 1/1 (146/1283) /content/drive/MyDrive/path_track/yolov7-object-tracking/test.mp4: 13 persons, Done. (1390.6ms) Inference, (1.3ms) NMS\n",
            "video 1/1 (147/1283) /content/drive/MyDrive/path_track/yolov7-object-tracking/test.mp4: 12 persons, Done. (1341.9ms) Inference, (1.1ms) NMS\n",
            "video 1/1 (148/1283) /content/drive/MyDrive/path_track/yolov7-object-tracking/test.mp4: 12 persons, Done. (1390.5ms) Inference, (1.3ms) NMS\n",
            "video 1/1 (149/1283) /content/drive/MyDrive/path_track/yolov7-object-tracking/test.mp4: 13 persons, Done. (1374.5ms) Inference, (1.3ms) NMS\n",
            "video 1/1 (150/1283) /content/drive/MyDrive/path_track/yolov7-object-tracking/test.mp4: 14 persons, Done. (1393.2ms) Inference, (1.2ms) NMS\n",
            "video 1/1 (151/1283) /content/drive/MyDrive/path_track/yolov7-object-tracking/test.mp4: 13 persons, Done. (1382.4ms) Inference, (1.2ms) NMS\n",
            "video 1/1 (152/1283) /content/drive/MyDrive/path_track/yolov7-object-tracking/test.mp4: 11 persons, Done. (1346.9ms) Inference, (1.2ms) NMS\n",
            "video 1/1 (153/1283) /content/drive/MyDrive/path_track/yolov7-object-tracking/test.mp4: 10 persons, Done. (1309.0ms) Inference, (1.1ms) NMS\n",
            "video 1/1 (154/1283) /content/drive/MyDrive/path_track/yolov7-object-tracking/test.mp4: 10 persons, Done. (1383.8ms) Inference, (1.2ms) NMS\n",
            "video 1/1 (155/1283) /content/drive/MyDrive/path_track/yolov7-object-tracking/test.mp4: 12 persons, Done. (1357.5ms) Inference, (1.7ms) NMS\n",
            "video 1/1 (156/1283) /content/drive/MyDrive/path_track/yolov7-object-tracking/test.mp4: 13 persons, Done. (1384.1ms) Inference, (2.7ms) NMS\n",
            "video 1/1 (157/1283) /content/drive/MyDrive/path_track/yolov7-object-tracking/test.mp4: Traceback (most recent call last):\n",
            "  File \"detect_and_track.py\", line 317, in <module>\n",
            "    detect()\n",
            "  File \"detect_and_track.py\", line 152, in detect\n",
            "    pred = model(img, augment=opt.augment)[0]\n",
            "  File \"/usr/local/lib/python3.8/dist-packages/torch/nn/modules/module.py\", line 1194, in _call_impl\n",
            "    return forward_call(*input, **kwargs)\n",
            "  File \"/content/drive/MyDrive/path_track/yolov7-object-tracking/utils/torch_utils.py\", line 372, in forward\n",
            "    out = self.model(x)\n",
            "  File \"/usr/local/lib/python3.8/dist-packages/torch/nn/modules/module.py\", line 1194, in _call_impl\n",
            "    return forward_call(*input, **kwargs)\n",
            "KeyboardInterrupt\n",
            "^C\n"
          ]
        }
      ]
    },
    {
      "cell_type": "code",
      "source": [],
      "metadata": {
        "id": "Rdu7vHJp6ipp"
      },
      "execution_count": null,
      "outputs": []
    }
  ]
}